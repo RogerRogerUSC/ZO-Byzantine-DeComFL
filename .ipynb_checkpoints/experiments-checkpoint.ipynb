{
 "cells": [
  {
   "cell_type": "code",
   "execution_count": 1,
   "id": "f412c0a5-7a67-40c1-b213-1b0363a66770",
   "metadata": {},
   "outputs": [
    {
     "name": "stderr",
     "output_type": "stream",
     "text": [
      "C:\\Users\\Zidong\\anaconda3\\envs\\ZooProject\\Lib\\site-packages\\torchvision\\io\\image.py:13: UserWarning: Failed to load image Python extension: '[WinError 127] The specified procedure could not be found'If you don't plan on using image functionality from `torchvision.io`, you can ignore this warning. Otherwise, there might be something wrong with your environment. Did you have `libjpeg` or `libpng` installed before building `torchvision` from source?\n",
      "  warn(\n"
     ]
    }
   ],
   "source": [
    "import numpy as np\n",
    "from model_helpers import get_model_and_optimizer\n",
    "\n",
    "model, optimizer = get_model_and_optimizer(\n",
    "    r'C:\\research\\zoo_attack\\models\\simple-2024-3-24-20-45-56.pt')\n",
    "import torchvision.transforms as transforms\n",
    "\n",
    "transform = transforms.Compose([\n",
    "    transforms.ToTensor(),\n",
    "    transforms.Normalize((0.5, 0.5, 0.5), (0.5, 0.5, 0.5))\n",
    "])\n",
    "\n",
    "import torchvision\n",
    "\n",
    "# Load CIFAR-10 dataset\n",
    "trainset = torchvision.datasets.CIFAR10(root='./data',\n",
    "                                        train=True,\n",
    "                                        download=False,\n",
    "                                        transform=transform)"
   ]
  },
  {
   "cell_type": "code",
   "execution_count": 2,
   "id": "bc938eb9-afbb-4b72-8b8e-fad3e262b291",
   "metadata": {},
   "outputs": [
    {
     "name": "stdout",
     "output_type": "stream",
     "text": [
      "1 0.00965217922044837\n",
      "2 0.00897028658649709\n",
      "3 0.00927657776690544\n",
      "4 0.009009939609187664\n",
      "6 0.009108906925314724\n",
      "7 0.009217809922624342\n",
      "8 0.008940588129629003\n",
      "9 0.00907921318960662\n",
      "10 0.009455416462208965\n",
      "11 0.009346525267799301\n",
      "12 0.009534656411350364\n",
      "13 0.009544556683833055\n",
      "14 0.009029700024293201\n",
      "15 0.009039628623735786\n",
      "16 0.00886138122860748\n",
      "17 0.009153820001162015\n",
      "19 0.00889395944999926\n",
      "20 0.0090198021123905\n",
      "22 0.008742575598235177\n",
      "23 0.00861384136842029\n",
      "24 0.00894060229310895\n",
      "25 0.00909904678269188\n",
      "26 0.009128728715500028\n",
      "28 0.009150034189224244\n",
      "29 0.008673264248536365\n"
     ]
    }
   ],
   "source": [
    "from torch_attack_class import Attack\n",
    "\n",
    "model_attacker = Attack(model)\n",
    "\n",
    "np.random.seed(1)\n",
    "result = [{'is_model_pred_correct': False} for i in range(100)]\n",
    "\n",
    "from time import time\n",
    "for i in range(100):\n",
    "    image, label = trainset[i]\n",
    "    model_pred = model(image).argmax().item()\n",
    "    if label == model_pred:\n",
    "        t1 = time()\n",
    "        is_success, attack_image, loss = model_attacker.attack(image, label)\n",
    "        t2 = time()\n",
    "        result[i] = {\n",
    "            'is_model_pred_correct': true,\n",
    "            'is_attack_successful': success,\n",
    "            'result_img': attack_image.detach(),\n",
    "            'training_loss': [l.detach() for l in loss],\n",
    "            'attack_total_time': t2 - t1\n",
    "        }\n",
    "        "
   ]
  },
  {
   "cell_type": "code",
   "execution_count": null,
   "id": "48d614b4-ed90-46c4-adf0-d6521874c4a6",
   "metadata": {},
   "outputs": [],
   "source": []
  },
  {
   "cell_type": "code",
   "execution_count": null,
   "id": "99e9a217-f517-4b13-b70d-70537e508317",
   "metadata": {},
   "outputs": [],
   "source": []
  }
 ],
 "metadata": {
  "kernelspec": {
   "display_name": "Python 3 (ipykernel)",
   "language": "python",
   "name": "python3"
  },
  "language_info": {
   "codemirror_mode": {
    "name": "ipython",
    "version": 3
   },
   "file_extension": ".py",
   "mimetype": "text/x-python",
   "name": "python",
   "nbconvert_exporter": "python",
   "pygments_lexer": "ipython3",
   "version": "3.11.8"
  }
 },
 "nbformat": 4,
 "nbformat_minor": 5
}
